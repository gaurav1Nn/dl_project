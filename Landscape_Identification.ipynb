{
 "cells": [
  {
   "cell_type": "code",
   "execution_count": 79,
   "id": "dd9475ac-5b6f-4d92-bd52-d2734776c6e6",
   "metadata": {},
   "outputs": [],
   "source": [
    "# dataset link : https://www.kaggle.com/datasets/puneet6060/intel-image-classification/code"
   ]
  },
  {
   "cell_type": "code",
   "execution_count": 80,
   "id": "b558a139-da66-49e5-93dd-6d722db37d8d",
   "metadata": {},
   "outputs": [],
   "source": [
    "# including libraries\n",
    "import os\n",
    "import numpy as np # convert image into 3D array\n",
    "from PIL import Image # module to create, open, modify, and save images in your Python code\n",
    "import matplotlib.pyplot as plt\n",
    "from random import randint"
   ]
  },
  {
   "cell_type": "code",
   "execution_count": 81,
   "id": "b9d5052b-e285-4783-9194-9db50f163eb6",
   "metadata": {},
   "outputs": [],
   "source": [
    "from tensorflow.keras.preprocessing.image import ImageDataGenerator\n",
    "from tensorflow.keras.layers import Conv2D, AvgPool2D, BatchNormalization, Dropout, Flatten, Dense\n",
    "from tensorflow.keras.models import Sequential"
   ]
  },
  {
   "cell_type": "code",
   "execution_count": 82,
   "id": "eb05c291-78f4-44d0-961c-54c5715abd41",
   "metadata": {},
   "outputs": [],
   "source": [
    "# # loading data\n",
    "# img_gen=ImageDataGenerator(rescale=1./255)"
   ]
  },
  {
   "cell_type": "code",
   "execution_count": 83,
   "id": "4b4f3cf2-1aaf-4711-b04e-a68c22588ef8",
   "metadata": {},
   "outputs": [],
   "source": [
    "# train_loader=img_gen.flow_from_directory(\n",
    "#     directory=r\"C:\\Users\\darsh\\DeepLearning\\DL_Project\\Intel_Classification_Dataset\\seg_train\\seg_train\",\n",
    "#     target_size=(128,128), # resizing all images\n",
    "#     batch_size=50,\n",
    "#     seed=42,\n",
    "#     class_mode='categorical',\n",
    "#     subset='training'\n",
    "# )\n",
    "\n",
    "# test_loader=img_gen.flow_from_directory(\n",
    "#     directory=r\"C:\\Users\\darsh\\DeepLearning\\DL_Project\\Intel_Classification_Dataset\\seg_test\\seg_test\",\n",
    "#     target_size=(128,128), # resizing all images\n",
    "#     batch_size=50,\n",
    "#     seed=42,\n",
    "#     class_mode='categorical',\n",
    "#     subset='validation'\n",
    "# )"
   ]
  },
  {
   "cell_type": "code",
   "execution_count": 84,
   "id": "7202fae6-2b84-4195-8e22-f0b0022f878a",
   "metadata": {},
   "outputs": [],
   "source": [
    "# datagen: This is the ImageDataGenerator instance used for data augmentation. Data augmentation is a technique used to artificially increase the size \n",
    "#          of a dataset by applying various transformations to the existing images, such as rotation, shifting, shearing, zooming, and flipping. \n",
    "#          Augmenting the data can help improve the generalization and robustness of the model by exposing it to different variations of the input \n",
    "#          data during training.\n",
    "\n",
    "# img_gen: This is another ImageDataGenerator instance used for loading images from directories and performing simple preprocessing operations. \n",
    "#     In your provided code, it rescales the pixel values of the images by dividing them by 255. Additionally, it loads images from directories, \n",
    "#     resizes them to a specified target size, and prepares batches of images for training or evaluation.\n",
    "\n",
    "# In summary, datagen is used for data augmentation, whereas img_gen is used for loading and preprocessing images. Both instances are based on \n",
    "#     ImageDataGenerator but serve different purposes in your code."
   ]
  },
  {
   "cell_type": "code",
   "execution_count": 85,
   "id": "87214887-604a-447d-90dc-fbfeb4a6db31",
   "metadata": {},
   "outputs": [],
   "source": [
    "# Define ImageDataGenerator for data augmentation\n",
    "datagen = ImageDataGenerator(\n",
    "    rotation_range=40,\n",
    "    width_shift_range=0.2,\n",
    "    height_shift_range=0.2,\n",
    "    shear_range=0.2,\n",
    "    zoom_range=0.2,\n",
    "    horizontal_flip=True,\n",
    "    fill_mode='nearest'\n",
    ")"
   ]
  },
  {
   "cell_type": "code",
   "execution_count": 86,
   "id": "e0b9cb78-9589-4292-9a9f-bc3aea0c92e8",
   "metadata": {},
   "outputs": [],
   "source": [
    "# Define paths to your train and test directories\n",
    "train_directory = r\"C:\\Users\\darsh\\DeepLearning\\DL_Project\\Intel_Classification_Dataset\\seg_train\\seg_train\"\n",
    "test_directory = r\"C:\\Users\\darsh\\DeepLearning\\DL_Project\\Intel_Classification_Dataset\\seg_test\\seg_test\""
   ]
  },
  {
   "cell_type": "code",
   "execution_count": 87,
   "id": "42f7a39d-a15d-4342-b007-33a5eb173d24",
   "metadata": {},
   "outputs": [
    {
     "name": "stdout",
     "output_type": "stream",
     "text": [
      "Found 14034 images belonging to 6 classes.\n",
      "Found 3000 images belonging to 6 classes.\n"
     ]
    }
   ],
   "source": [
    "# Create generators for train and test data\n",
    "train_generator = datagen.flow_from_directory(\n",
    "    train_directory,\n",
    "    target_size=(128, 128),  # Resize images to your desired dimensions\n",
    "    batch_size=50,\n",
    "    seed=42,\n",
    "    class_mode='categorical',\n",
    "    subset='training'\n",
    ")\n",
    "\n",
    "test_generator = datagen.flow_from_directory(\n",
    "    test_directory,\n",
    "    target_size=(128, 128),  # Resize images to your desired dimensions\n",
    "    batch_size=50,\n",
    "    seed=42,\n",
    "    class_mode='categorical',\n",
    "    # subset='validation'\n",
    ")"
   ]
  },
  {
   "cell_type": "code",
   "execution_count": 88,
   "id": "5abf0f83-7c5d-42ca-8d06-95906b0ee5e5",
   "metadata": {},
   "outputs": [],
   "source": [
    "# ImageDataGenerator does not save the augmented images to a folder automatically. Instead, it generates batches of augmented images on-the-fly during \n",
    "# model training."
   ]
  },
  {
   "cell_type": "code",
   "execution_count": 89,
   "id": "90db46c4-b24c-45bc-9fbb-edc8b2667e99",
   "metadata": {},
   "outputs": [],
   "source": [
    "# you don't need to write the code again for img_gen.flow_from_directory.\n",
    "\n",
    "# In your provided code, you have already created train_generator and test_generator using datagen.flow_from_directory with the required configurations. \n",
    "# These generators perform both data augmentation and loading of images from directories."
   ]
  },
  {
   "cell_type": "code",
   "execution_count": 90,
   "id": "82560eac-0387-4e14-abf3-c1efccf3f84b",
   "metadata": {},
   "outputs": [],
   "source": [
    "# The line `img_gen=ImageDataGenerator(rescale=1./255)` is not necessary if you are using the `datagen` for data augmentation and preprocessing. \n",
    "\n",
    "# In the provided code snippet, you're using `datagen`, which is an instance of `ImageDataGenerator`, to perform both data augmentation and pixel \n",
    "# value rescaling (with `rescale=1./255`). \n",
    "\n",
    "# When you define `datagen`, it already includes the rescaling step along with other augmentation parameters. Therefore, you don't need to separately \n",
    "# define another instance of `ImageDataGenerator` (`img_gen`) for rescaling if you're already using `datagen`.\n",
    "\n",
    "# So, you can safely remove the line `img_gen=ImageDataGenerator(rescale=1./255)` as it duplicates the functionality that is already included \n",
    "# in `datagen`. Your code will still properly preprocess and augment the data for training and validation using `datagen`."
   ]
  },
  {
   "cell_type": "code",
   "execution_count": 91,
   "id": "1c5d5669-9573-411e-938c-00a5e9ffeafb",
   "metadata": {},
   "outputs": [
    {
     "data": {
      "text/plain": [
       "{'buildings': 0,\n",
       " 'forest': 1,\n",
       " 'glacier': 2,\n",
       " 'mountain': 3,\n",
       " 'sea': 4,\n",
       " 'street': 5}"
      ]
     },
     "execution_count": 91,
     "metadata": {},
     "output_type": "execute_result"
    }
   ],
   "source": [
    "train_generator.class_indices"
   ]
  },
  {
   "cell_type": "code",
   "execution_count": 92,
   "id": "a70b81bc-a06c-42c4-a744-9b95fe64e771",
   "metadata": {},
   "outputs": [
    {
     "data": {
      "text/plain": [
       "{0: 'buildings',\n",
       " 1: 'forest',\n",
       " 2: 'glacier',\n",
       " 3: 'mountain',\n",
       " 4: 'sea',\n",
       " 5: 'street'}"
      ]
     },
     "execution_count": 92,
     "metadata": {},
     "output_type": "execute_result"
    }
   ],
   "source": [
    "# creating dictionary interchanging key and value\n",
    "idx_to_classes={val:key for key,val in dict(train_generator.class_indices).items()}\n",
    "idx_to_classes"
   ]
  },
  {
   "cell_type": "code",
   "execution_count": null,
   "id": "151a56be-4c65-4d00-b5d1-61723e87d567",
   "metadata": {},
   "outputs": [],
   "source": [
    "#hello"
   ]
  },
  {
   "cell_type": "code",
   "execution_count": null,
   "id": "1de17245-5789-435c-857d-f331a6b12254",
   "metadata": {},
   "outputs": [],
   "source": []
  }
 ],
 "metadata": {
  "kernelspec": {
   "display_name": "Python 3 (ipykernel)",
   "language": "python",
   "name": "python3"
  },
  "language_info": {
   "codemirror_mode": {
    "name": "ipython",
    "version": 3
   },
   "file_extension": ".py",
   "mimetype": "text/x-python",
   "name": "python",
   "nbconvert_exporter": "python",
   "pygments_lexer": "ipython3",
   "version": "3.11.5"
  }
 },
 "nbformat": 4,
 "nbformat_minor": 5
}
