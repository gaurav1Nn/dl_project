{
 "cells": [
  {
   "cell_type": "markdown",
   "metadata": {
    "colab_type": "text",
    "id": "Fkq1KMz3gP0O"
   },
   "source": [
    "#Predicting Covid-19 Cases Using RNN GRU Model\n",
    "\n",
    "This use-case provides a demo of how RNN and GRU can be used to model time series data. In our use-case, we will use Covid-19 data to predict the number of future cases based on the available historical data. \n",
    "\n",
    "Workflow:\n",
    "\n",
    "\n",
    "1.   Understanding the problem\n",
    "2.   Collecting the data\n",
    "3.   Data preprocessing\n",
    "4.   Build Model using RNN & Grated Recurrent Unit (GRU)\n",
    "5.   Training the dataset\n",
    "6.   Predict \n"
   ]
  },
  {
   "cell_type": "markdown",
   "metadata": {
    "colab_type": "text",
    "id": "wY2VSBddhV9V"
   },
   "source": [
    "##1. Understanding the problem\n",
    "You have been given a dataset that has data of cases related to the spread of Covid-19 virus in India. We have to model the time series data using RNN GRU sequential model. "
   ]
  },
  {
   "cell_type": "markdown",
   "metadata": {
    "colab_type": "text",
    "id": "ZH5FYBPGh1O3"
   },
   "source": [
    "###Import the necessary libraries\n",
    "\n",
    "We will use keras for this purpose. Please load the following packages before you proceed further."
   ]
  },
  {
   "cell_type": "code",
   "execution_count": 4,
   "metadata": {},
   "outputs": [
    {
     "name": "stdout",
     "output_type": "stream",
     "text": [
      "Requirement already satisfied: keras in c:\\users\\hp\\appdata\\roaming\\python\\python312\\site-packages (3.8.0)Note: you may need to restart the kernel to use updated packages.\n",
      "\n",
      "Requirement already satisfied: absl-py in c:\\users\\hp\\appdata\\roaming\\python\\python312\\site-packages (from keras) (2.1.0)\n",
      "Requirement already satisfied: numpy in c:\\users\\hp\\anaconda3\\lib\\site-packages (from keras) (1.26.4)\n",
      "Requirement already satisfied: rich in c:\\users\\hp\\anaconda3\\lib\\site-packages (from keras) (13.3.5)\n",
      "Requirement already satisfied: namex in c:\\users\\hp\\appdata\\roaming\\python\\python312\\site-packages (from keras) (0.0.8)\n",
      "Requirement already satisfied: h5py in c:\\users\\hp\\anaconda3\\lib\\site-packages (from keras) (3.11.0)\n",
      "Requirement already satisfied: optree in c:\\users\\hp\\appdata\\roaming\\python\\python312\\site-packages (from keras) (0.14.0)\n",
      "Requirement already satisfied: ml-dtypes in c:\\users\\hp\\appdata\\roaming\\python\\python312\\site-packages (from keras) (0.4.1)\n",
      "Requirement already satisfied: packaging in c:\\users\\hp\\anaconda3\\lib\\site-packages (from keras) (23.2)\n",
      "Requirement already satisfied: typing-extensions>=4.5.0 in c:\\users\\hp\\anaconda3\\lib\\site-packages (from optree->keras) (4.11.0)\n",
      "Requirement already satisfied: markdown-it-py<3.0.0,>=2.2.0 in c:\\users\\hp\\anaconda3\\lib\\site-packages (from rich->keras) (2.2.0)\n",
      "Requirement already satisfied: pygments<3.0.0,>=2.13.0 in c:\\users\\hp\\anaconda3\\lib\\site-packages (from rich->keras) (2.15.1)\n",
      "Requirement already satisfied: mdurl~=0.1 in c:\\users\\hp\\anaconda3\\lib\\site-packages (from markdown-it-py<3.0.0,>=2.2.0->rich->keras) (0.1.0)\n"
     ]
    }
   ],
   "source": [
    "pip install keras"
   ]
  },
  {
   "cell_type": "code",
   "execution_count": 5,
   "metadata": {},
   "outputs": [
    {
     "name": "stdout",
     "output_type": "stream",
     "text": [
      "3.8.0\n"
     ]
    }
   ],
   "source": [
    "import keras\n",
    "print(keras.__version__)\n"
   ]
  },
  {
   "cell_type": "code",
   "execution_count": 6,
   "metadata": {
    "colab": {
     "base_uri": "https://localhost:8080/",
     "height": 34
    },
    "colab_type": "code",
    "id": "c092IzdngTQx",
    "outputId": "5be61a89-32a6-4060-e3a8-c578832f7d73"
   },
   "outputs": [],
   "source": [
    "import pandas as pd\n",
    "import matplotlib.pyplot as plt\n",
    "import numpy as np\n",
    "import matplotlib.dates as mdates\n",
    "import datetime as dt\n",
    "\n",
    "\n",
    "from keras.layers import Dense, Dropout, GRU\n",
    "from keras.models import Sequential, load_model\n",
    "from sklearn.model_selection import train_test_split\n",
    "from sklearn.preprocessing import MinMaxScaler"
   ]
  },
  {
   "cell_type": "markdown",
   "metadata": {
    "colab_type": "text",
    "id": "6g9qNnBsh_1_"
   },
   "source": [
    "##2. Collecting the Data\n",
    "The dataset covid19.csv will be used for the demo. The dataset has the covid-19 cases recorded in India. It has been downloaded from the site https://www.kaggle.com/imdevskp/covid19-corona-virus-india-dataset \n",
    "\n",
    "The dataset has been modified to just keep 2 columns that are relevant to our analysis. It contains 2 fields and 89 rows:\n",
    "\n",
    "The 5 columns in the dataset are:\n",
    "\n",
    "1.   Date - Date of the cases starting from 31-Jan-2020. \n",
    "2.   Cases - Number of cases registered.\n",
    "\n",
    "\n",
    "Please note that the availablity of data is scarse. \n",
    "\n",
    "Load the dataset using pandas read_csv function."
   ]
  },
  {
   "cell_type": "code",
   "execution_count": 8,
   "metadata": {
    "colab": {},
    "colab_type": "code",
    "id": "GWip1W4QyRIc"
   },
   "outputs": [],
   "source": [
    "main_dataset = pd.read_csv(\"https://raw.githubusercontent.com/datasets/covid-19/main/data/countries-aggregated.csv\") #Read the data"
   ]
  },
  {
   "cell_type": "code",
   "execution_count": 9,
   "metadata": {
    "colab": {
     "base_uri": "https://localhost:8080/",
     "height": 419
    },
    "colab_type": "code",
    "id": "-0TZHFpVEGI1",
    "outputId": "2d8dd11e-b441-4f1b-b85e-1650842ed41c"
   },
   "outputs": [
    {
     "data": {
      "text/html": [
       "<div>\n",
       "<style scoped>\n",
       "    .dataframe tbody tr th:only-of-type {\n",
       "        vertical-align: middle;\n",
       "    }\n",
       "\n",
       "    .dataframe tbody tr th {\n",
       "        vertical-align: top;\n",
       "    }\n",
       "\n",
       "    .dataframe thead th {\n",
       "        text-align: right;\n",
       "    }\n",
       "</style>\n",
       "<table border=\"1\" class=\"dataframe\">\n",
       "  <thead>\n",
       "    <tr style=\"text-align: right;\">\n",
       "      <th></th>\n",
       "      <th>Date</th>\n",
       "      <th>Country</th>\n",
       "      <th>Confirmed</th>\n",
       "      <th>Recovered</th>\n",
       "      <th>Deaths</th>\n",
       "    </tr>\n",
       "  </thead>\n",
       "  <tbody>\n",
       "    <tr>\n",
       "      <th>0</th>\n",
       "      <td>2020-01-22</td>\n",
       "      <td>Afghanistan</td>\n",
       "      <td>0</td>\n",
       "      <td>0</td>\n",
       "      <td>0</td>\n",
       "    </tr>\n",
       "    <tr>\n",
       "      <th>1</th>\n",
       "      <td>2020-01-23</td>\n",
       "      <td>Afghanistan</td>\n",
       "      <td>0</td>\n",
       "      <td>0</td>\n",
       "      <td>0</td>\n",
       "    </tr>\n",
       "    <tr>\n",
       "      <th>2</th>\n",
       "      <td>2020-01-24</td>\n",
       "      <td>Afghanistan</td>\n",
       "      <td>0</td>\n",
       "      <td>0</td>\n",
       "      <td>0</td>\n",
       "    </tr>\n",
       "    <tr>\n",
       "      <th>3</th>\n",
       "      <td>2020-01-25</td>\n",
       "      <td>Afghanistan</td>\n",
       "      <td>0</td>\n",
       "      <td>0</td>\n",
       "      <td>0</td>\n",
       "    </tr>\n",
       "    <tr>\n",
       "      <th>4</th>\n",
       "      <td>2020-01-26</td>\n",
       "      <td>Afghanistan</td>\n",
       "      <td>0</td>\n",
       "      <td>0</td>\n",
       "      <td>0</td>\n",
       "    </tr>\n",
       "    <tr>\n",
       "      <th>...</th>\n",
       "      <td>...</td>\n",
       "      <td>...</td>\n",
       "      <td>...</td>\n",
       "      <td>...</td>\n",
       "      <td>...</td>\n",
       "    </tr>\n",
       "    <tr>\n",
       "      <th>161563</th>\n",
       "      <td>2022-04-12</td>\n",
       "      <td>Zimbabwe</td>\n",
       "      <td>247094</td>\n",
       "      <td>0</td>\n",
       "      <td>5460</td>\n",
       "    </tr>\n",
       "    <tr>\n",
       "      <th>161564</th>\n",
       "      <td>2022-04-13</td>\n",
       "      <td>Zimbabwe</td>\n",
       "      <td>247160</td>\n",
       "      <td>0</td>\n",
       "      <td>5460</td>\n",
       "    </tr>\n",
       "    <tr>\n",
       "      <th>161565</th>\n",
       "      <td>2022-04-14</td>\n",
       "      <td>Zimbabwe</td>\n",
       "      <td>247208</td>\n",
       "      <td>0</td>\n",
       "      <td>5462</td>\n",
       "    </tr>\n",
       "    <tr>\n",
       "      <th>161566</th>\n",
       "      <td>2022-04-15</td>\n",
       "      <td>Zimbabwe</td>\n",
       "      <td>247237</td>\n",
       "      <td>0</td>\n",
       "      <td>5462</td>\n",
       "    </tr>\n",
       "    <tr>\n",
       "      <th>161567</th>\n",
       "      <td>2022-04-16</td>\n",
       "      <td>Zimbabwe</td>\n",
       "      <td>247237</td>\n",
       "      <td>0</td>\n",
       "      <td>5462</td>\n",
       "    </tr>\n",
       "  </tbody>\n",
       "</table>\n",
       "<p>161568 rows × 5 columns</p>\n",
       "</div>"
      ],
      "text/plain": [
       "              Date      Country  Confirmed  Recovered  Deaths\n",
       "0       2020-01-22  Afghanistan          0          0       0\n",
       "1       2020-01-23  Afghanistan          0          0       0\n",
       "2       2020-01-24  Afghanistan          0          0       0\n",
       "3       2020-01-25  Afghanistan          0          0       0\n",
       "4       2020-01-26  Afghanistan          0          0       0\n",
       "...            ...          ...        ...        ...     ...\n",
       "161563  2022-04-12     Zimbabwe     247094          0    5460\n",
       "161564  2022-04-13     Zimbabwe     247160          0    5460\n",
       "161565  2022-04-14     Zimbabwe     247208          0    5462\n",
       "161566  2022-04-15     Zimbabwe     247237          0    5462\n",
       "161567  2022-04-16     Zimbabwe     247237          0    5462\n",
       "\n",
       "[161568 rows x 5 columns]"
      ]
     },
     "execution_count": 9,
     "metadata": {},
     "output_type": "execute_result"
    }
   ],
   "source": [
    "main_dataset"
   ]
  },
  {
   "cell_type": "markdown",
   "metadata": {
    "colab_type": "text",
    "id": "TdM6CsxNuVgh"
   },
   "source": [
    "###Trend"
   ]
  },
  {
   "cell_type": "code",
   "execution_count": 11,
   "metadata": {
    "colab": {
     "base_uri": "https://localhost:8080/",
     "height": 267
    },
    "colab_type": "code",
    "id": "DW9BETi_uEBF",
    "outputId": "8ede89dd-f76e-4b0c-f964-c645c29939c0"
   },
   "outputs": [
    {
     "data": {
      "image/png": "[encoded data removed]",
      "text/plain": [
       "<Figure size 640x480 with 1 Axes>"
      ]
     },
     "metadata": {},
     "output_type": "display_data"
    }
   ],
   "source": [
    "plt.plot(main_dataset.Date,main_dataset.Confirmed)\n",
    "plt.show()"
   ]
  },
  {
   "cell_type": "markdown",
   "metadata": {
    "colab_type": "text",
    "id": "7qknFf0z0HaI"
   },
   "source": [
    "##3. Data Preprocessing\n",
    "\n",
    "We use following steps to preprocess the available dataset.\n",
    "\n",
    "\n",
    "\n",
    "1.   Create new features from the available variables\n",
    "2.   Create target and predictor datasets\n",
    "3.   Scale the values in the datasets\n",
    "4.   Get the datasets into desired format and shape.\n",
    "5.   Split the dataset into train & test with appropriate ratio.\n",
    "\n"
   ]
  },
  {
   "cell_type": "code",
   "execution_count": 13,
   "metadata": {
    "colab": {},
    "colab_type": "code",
    "id": "gMwmojSe5i-W"
   },
   "outputs": [],
   "source": [
    "dataset = main_dataset #Create another dataset same as the main dataset. Just to avoid replacing the main one. \n",
    "dataset = dataset.set_index('Date') #Set the index of the dataset as the date\n",
    "dataset = dataset['Confirmed'] #We will be left with only one column Cases for our dataset"
   ]
  },
  {
   "cell_type": "markdown",
   "metadata": {
    "colab_type": "text",
    "id": "uFZsAHbykFc0"
   },
   "source": [
    "Create a new variable called Moving Average. Moving Average is a calculation of averages of subsequent datapoints. Example:\n",
    "\n",
    "\n",
    "\n",
    "\n",
    "\n",
    "> 1-Jan-2010   100\n",
    "\n",
    "\n",
    "> 2-Jan-2010   200\n",
    "\n",
    "\n",
    "\n",
    "\n",
    "\n",
    "\n",
    "\n",
    "Moving average will be (200+100)/2 = 150\n",
    "\n",
    "We will take moving average for 3 days in our example.\n",
    "\n",
    "Note: You can create any number of such variables and any days."
   ]
  },
  {
   "cell_type": "code",
   "execution_count": 15,
   "metadata": {
    "colab": {},
    "colab_type": "code",
    "id": "EbdzMl4gL_5N"
   },
   "outputs": [],
   "source": [
    "dataset=dataset.to_frame() #Convert the Series into a dataframe object\n",
    "dataset['Cases_MA2']=dataset.expanding(min_periods=3).mean()  #min_periods is used to set the no. of periods for calculating MA. Mean is for calculating average. "
   ]
  },
  {
   "cell_type": "markdown",
   "metadata": {
    "colab_type": "text",
    "id": "WIirZWKilJ2b"
   },
   "source": [
    "Create a new variable called Exponential Moving Average(EMA). EMA gives more weightage to the recent values rather than the old values. This could be handy in time series forecasting techniques. \n",
    "\n",
    "We will take exponential moving average for 3 days in our example.\n",
    "\n",
    "Note: You can create any number of such variables and any days."
   ]
  },
  {
   "cell_type": "code",
   "execution_count": 17,
   "metadata": {
    "colab": {},
    "colab_type": "code",
    "id": "Z3lJtf9bWRsM"
   },
   "outputs": [],
   "source": [
    "dataset['EMA'] = dataset.iloc[:,0].ewm(span=3,adjust=False).mean() #ewm is used exponential moving average"
   ]
  },
  {
   "cell_type": "code",
   "execution_count": 18,
   "metadata": {
    "colab": {},
    "colab_type": "code",
    "id": "wf6gysbdWSan"
   },
   "outputs": [],
   "source": [
    "dataset = dataset[dataset['Cases_MA2'].notna()] #Remove the rows that have NAs"
   ]
  },
  {
   "cell_type": "markdown",
   "metadata": {
    "colab_type": "text",
    "id": "fjeZSygkmNZp"
   },
   "source": [
    "Let's look at the dataset"
   ]
  },
  {
   "cell_type": "code",
   "execution_count": 20,
   "metadata": {
    "colab": {
     "base_uri": "https://localhost:8080/",
     "height": 235
    },
    "colab_type": "code",
    "id": "GoqB0BfFe26l",
    "outputId": "847815c3-3e89-49b6-9bf9-a8f5b6a46ecd"
   },
   "outputs": [
    {
     "data": {
      "text/html": [
       "<div>\n",
       "<style scoped>\n",
       "    .dataframe tbody tr th:only-of-type {\n",
       "        vertical-align: middle;\n",
       "    }\n",
       "\n",
       "    .dataframe tbody tr th {\n",
       "        vertical-align: top;\n",
       "    }\n",
       "\n",
       "    .dataframe thead th {\n",
       "        text-align: right;\n",
       "    }\n",
       "</style>\n",
       "<table border=\"1\" class=\"dataframe\">\n",
       "  <thead>\n",
       "    <tr style=\"text-align: right;\">\n",
       "      <th></th>\n",
       "      <th>Confirmed</th>\n",
       "      <th>Cases_MA2</th>\n",
       "      <th>EMA</th>\n",
       "    </tr>\n",
       "    <tr>\n",
       "      <th>Date</th>\n",
       "      <th></th>\n",
       "      <th></th>\n",
       "      <th></th>\n",
       "    </tr>\n",
       "  </thead>\n",
       "  <tbody>\n",
       "    <tr>\n",
       "      <th>2022-04-12</th>\n",
       "      <td>247094</td>\n",
       "      <td>736169.039340</td>\n",
       "      <td>247030.826974</td>\n",
       "    </tr>\n",
       "    <tr>\n",
       "      <th>2022-04-13</th>\n",
       "      <td>247160</td>\n",
       "      <td>736166.012639</td>\n",
       "      <td>247095.413487</td>\n",
       "    </tr>\n",
       "    <tr>\n",
       "      <th>2022-04-14</th>\n",
       "      <td>247208</td>\n",
       "      <td>736162.986272</td>\n",
       "      <td>247151.706744</td>\n",
       "    </tr>\n",
       "    <tr>\n",
       "      <th>2022-04-15</th>\n",
       "      <td>247237</td>\n",
       "      <td>736159.960122</td>\n",
       "      <td>247194.353372</td>\n",
       "    </tr>\n",
       "    <tr>\n",
       "      <th>2022-04-16</th>\n",
       "      <td>247237</td>\n",
       "      <td>736156.934009</td>\n",
       "      <td>247215.676686</td>\n",
       "    </tr>\n",
       "  </tbody>\n",
       "</table>\n",
       "</div>"
      ],
      "text/plain": [
       "            Confirmed      Cases_MA2            EMA\n",
       "Date                                               \n",
       "2022-04-12     247094  736169.039340  247030.826974\n",
       "2022-04-13     247160  736166.012639  247095.413487\n",
       "2022-04-14     247208  736162.986272  247151.706744\n",
       "2022-04-15     247237  736159.960122  247194.353372\n",
       "2022-04-16     247237  736156.934009  247215.676686"
      ]
     },
     "execution_count": 20,
     "metadata": {},
     "output_type": "execute_result"
    }
   ],
   "source": [
    "dataset.tail()"
   ]
  },
  {
   "cell_type": "markdown",
   "metadata": {
    "colab_type": "text",
    "id": "EIMN7E2PsX2_"
   },
   "source": [
    "Here we will be predicting the column 'Cases'. Hence the target variable will be 'Cases'"
   ]
  },
  {
   "cell_type": "markdown",
   "metadata": {
    "colab_type": "text",
    "id": "AQK7tbKRwj-b"
   },
   "source": [
    "Adjust the shapes of predictor and target sets. For this, we remove the last row of both the datasets."
   ]
  },
  {
   "cell_type": "code",
   "execution_count": 23,
   "metadata": {
    "colab": {
     "base_uri": "https://localhost:8080/",
     "height": 102
    },
    "colab_type": "code",
    "id": "-13AY5Ig45lk",
    "outputId": "3ada2049-0e6f-4e6e-fced-8604b4167f5d"
   },
   "outputs": [],
   "source": [
    "\n",
    "target = dataset[['Confirmed']]\n",
    "dataset = dataset.drop(columns=['Confirmed'])\n",
    "\n"
   ]
  },
  {
   "cell_type": "markdown",
   "metadata": {
    "colab_type": "text",
    "id": "YgT5js03xHYP"
   },
   "source": [
    "Convert both dataset and target into numpy arrays.\n",
    "\n",
    "\n",
    "*   x -> dataset with predictor variables\n",
    "*   y -> dataset with target variable\n",
    "\n",
    "\n"
   ]
  },
  {
   "cell_type": "code",
   "execution_count": 25,
   "metadata": {
    "colab": {},
    "colab_type": "code",
    "id": "bvamkbLRyoo5"
   },
   "outputs": [],
   "source": [
    "x, y = dataset.values, target.values"
   ]
  },
  {
   "cell_type": "markdown",
   "metadata": {
    "colab_type": "text",
    "id": "qS2E3yDixWeW"
   },
   "source": [
    "We now scale the values for the model."
   ]
  },
  {
   "cell_type": "code",
   "execution_count": 27,
   "metadata": {
    "colab": {},
    "colab_type": "code",
    "id": "PJLucXSoy8XT"
   },
   "outputs": [],
   "source": [
    "from sklearn.preprocessing import MinMaxScaler\n",
    "from sklearn.model_selection import train_test_split\n",
    "\n",
    "# Initialize scalers\n",
    "x_scaled_set = MinMaxScaler()\n",
    "y_scaled_set = MinMaxScaler()\n",
    "\n",
    "# Fit and transform data\n",
    "X = x_scaled_set.fit_transform(x)  # Scale X\n",
    "Y = y_scaled_set.fit_transform(y.reshape(-1,1))  # Scale Y\n",
    "\n",
    "# Split dataset into training and testing sets\n",
    "X_train_data, X_test_data, y_train_data, y_test_data = train_test_split(\n",
    "    X, Y, test_size=0.1, random_state=42, shuffle=False\n",
    ")\n",
    "\n",
    "# Reshape data for GRU model\n",
    "X_train_data = X_train_data.reshape((-1, 1, X.shape[1]))  # Ensure correct shape for GRU\n",
    "X_test_data = X_test_data.reshape((-1, 1, X.shape[1]))  # Ensure correct shape for GRU\n"
   ]
  },
  {
   "cell_type": "markdown",
   "metadata": {
    "colab_type": "text",
    "id": "g67PWyZlmXNA"
   },
   "source": [
    "Split the X into train and test datasets.\n",
    "\n",
    "Consider Training data as first 77 rows of the data and next 8 rows will be used for testing the model. "
   ]
  },
  {
   "cell_type": "markdown",
   "metadata": {
    "colab_type": "text",
    "id": "mmnPYBJq08np"
   },
   "source": [
    "## 4. Build Model using RNN & Grated Recurrent Unit (GRU)\n",
    "\n",
    "We will use the Sequential class from keras.models library to define a linear stack of network layers. These form a model. \n",
    "\n",
    "Using the add method, the necessary layers would be added to the model.\n",
    "\n",
    "RNNs have an issue of short-term memory which means if the sequence is long, they tend to leave leave out the earlier ones and only retain information related to the later ones. To remove this problem, GRUs are used. In a way, GRU helps in keeping only the important information in the whole sequence. Initially, we add the GRU layer with necessary parameters. \n",
    "\n",
    "Then, we add a Dropout layer to prevent overfitting of the model.\n",
    "\n",
    "We add another set of GRU and Dropout layers.\n",
    "\n",
    "Post which we add a Dense layer which gives us the fully connected layer. We use the regular sigmoid activation function.\n",
    "\n",
    "In our model, we will use Adam optimizer and consider mean square error as our loss function since ours is a Regression model. "
   ]
  },
  {
   "cell_type": "code",
   "execution_count": 30,
   "metadata": {
    "colab": {},
    "colab_type": "code",
    "id": "8ps_hdPIzkee"
   },
   "outputs": [],
   "source": [
    "from keras.models import Sequential\n",
    "from keras.layers import Dense, Dropout, GRU, Input\n",
    "\n",
    "# Define the model\n",
    "GRU_model = Sequential()\n",
    "\n",
    "# Add an Input layer first\n",
    "GRU_model.add(Input(shape=(1, 2)))  \n",
    "\n",
    "# First GRU layer\n",
    "GRU_model.add(GRU(units=512, return_sequences=True))  \n",
    "GRU_model.add(Dropout(0.2))  \n",
    "\n",
    "# Second GRU layer\n",
    "GRU_model.add(GRU(units=256))  \n",
    "GRU_model.add(Dropout(0.2))  \n",
    "\n",
    "# Output layer\n",
    "GRU_model.add(Dense(1, activation='sigmoid'))  \n",
    "\n",
    "# Compile the model\n",
    "GRU_model.compile(loss='mse', optimizer='adam')\n"
   ]
  },
  {
   "cell_type": "markdown",
   "metadata": {
    "colab_type": "text",
    "id": "MwrxiDXw-Sjz"
   },
   "source": [
    "## 5. Training the Dataset\n",
    "\n",
    "Fit the model by passing the training data we created earlier along with relevant batch size, epochs, validation split. \n",
    "\n",
    "Batch Size - The batch size controls the number of training samples before the model's internal parameters are updated\n",
    "\n",
    "Epochs - How many times the whole training dataset be passed through the network. \n"
   ]
  },
  {
   "cell_type": "code",
   "execution_count": 32,
   "metadata": {
    "colab": {
     "base_uri": "https://localhost:8080/",
     "height": 1000
    },
    "colab_type": "code",
    "id": "ju-M7vNb5-mj",
    "outputId": "5d8715d8-0104-4d3c-ac24-c97e9aca37cf"
   },
   "outputs": [
    {
     "name": "stdout",
     "output_type": "stream",
     "text": [
      "Epoch 1/10\n",
      "\u001b[1m495/495\u001b[0m \u001b[32m━━━━━━━━━━━━━━━━━━━━\u001b[0m\u001b[37m\u001b[0m \u001b[1m13s\u001b[0m 19ms/step - loss: 0.0186 - val_loss: 1.7505e-04\n",
      "Epoch 2/10\n",
      "\u001b[1m495/495\u001b[0m \u001b[32m━━━━━━━━━━━━━━━━━━━━\u001b[0m\u001b[37m\u001b[0m \u001b[1m9s\u001b[0m 19ms/step - loss: 5.8299e-04 - val_loss: 1.1958e-04\n",
      "Epoch 3/10\n",
      "\u001b[1m495/495\u001b[0m \u001b[32m━━━━━━━━━━━━━━━━━━━━\u001b[0m\u001b[37m\u001b[0m \u001b[1m9s\u001b[0m 18ms/step - loss: 2.4017e-04 - val_loss: 9.7246e-05\n",
      "Epoch 4/10\n",
      "\u001b[1m495/495\u001b[0m \u001b[32m━━━━━━━━━━━━━━━━━━━━\u001b[0m\u001b[37m\u001b[0m \u001b[1m9s\u001b[0m 19ms/step - loss: 1.2702e-04 - val_loss: 6.1526e-05\n",
      "Epoch 5/10\n",
      "\u001b[1m495/495\u001b[0m \u001b[32m━━━━━━━━━━━━━━━━━━━━\u001b[0m\u001b[37m\u001b[0m \u001b[1m9s\u001b[0m 19ms/step - loss: 8.7793e-05 - val_loss: 4.8302e-05\n",
      "Epoch 6/10\n",
      "\u001b[1m495/495\u001b[0m \u001b[32m━━━━━━━━━━━━━━━━━━━━\u001b[0m\u001b[37m\u001b[0m \u001b[1m9s\u001b[0m 19ms/step - loss: 6.9988e-05 - val_loss: 3.5656e-05\n",
      "Epoch 7/10\n",
      "\u001b[1m495/495\u001b[0m \u001b[32m━━━━━━━━━━━━━━━━━━━━\u001b[0m\u001b[37m\u001b[0m \u001b[1m10s\u001b[0m 20ms/step - loss: 4.8599e-05 - val_loss: 2.5151e-05\n",
      "Epoch 8/10\n",
      "\u001b[1m495/495\u001b[0m \u001b[32m━━━━━━━━━━━━━━━━━━━━\u001b[0m\u001b[37m\u001b[0m \u001b[1m9s\u001b[0m 19ms/step - loss: 2.8600e-05 - val_loss: 1.5253e-05\n",
      "Epoch 9/10\n",
      "\u001b[1m495/495\u001b[0m \u001b[32m━━━━━━━━━━━━━━━━━━━━\u001b[0m\u001b[37m\u001b[0m \u001b[1m10s\u001b[0m 19ms/step - loss: 2.3598e-05 - val_loss: 1.1538e-05\n",
      "Epoch 10/10\n",
      "\u001b[1m495/495\u001b[0m \u001b[32m━━━━━━━━━━━━━━━━━━━━\u001b[0m\u001b[37m\u001b[0m \u001b[1m10s\u001b[0m 20ms/step - loss: 1.8183e-05 - val_loss: 1.0101e-05\n"
     ]
    },
    {
     "data": {
      "text/plain": [
       "<keras.src.callbacks.history.History at 0x260f29e8aa0>"
      ]
     },
     "execution_count": 32,
     "metadata": {},
     "output_type": "execute_result"
    }
   ],
   "source": [
    "GRU_model.fit(X_train_data,y_train_data,batch_size=250, epochs=10, validation_split=0.15, verbose=1) \n",
    "#GRU_model.save(\"covid_GRU.h5\") #Save the model if you want for reuse. "
   ]
  },
  {
   "cell_type": "markdown",
   "metadata": {
    "colab_type": "text",
    "id": "UFp5UUl6_iJ1"
   },
   "source": [
    "## 6. Predict\n",
    "\n",
    "Use evaluate function to get the loss metric. Apply the created model on test dataset. \n",
    "\n",
    "Plot the predicted and actual values on a graph. \n",
    "\n",
    "The lower the 'score' metric (ie mean square error), better is our model."
   ]
  },
  {
   "cell_type": "code",
   "execution_count": 54,
   "metadata": {
    "colab": {
     "base_uri": "https://localhost:8080/",
     "height": 51
    },
    "colab_type": "code",
    "id": "YE3X6YY1DrE3",
    "outputId": "9cdfb75a-21cb-488e-ee05-d5064e961e4e"
   },
   "outputs": [
    {
     "name": "stdout",
     "output_type": "stream",
     "text": [
      "\u001b[1m505/505\u001b[0m \u001b[32m━━━━━━━━━━━━━━━━━━━━\u001b[0m\u001b[37m\u001b[0m \u001b[1m1s\u001b[0m 2ms/step - loss: 7.3621e-04\n",
      "Score: 0.0005977312102913857\n",
      "\u001b[1m505/505\u001b[0m \u001b[32m━━━━━━━━━━━━━━━━━━━━\u001b[0m\u001b[37m\u001b[0m \u001b[1m1s\u001b[0m 2ms/step\n"
     ]
    }
   ],
   "source": [
    "score = GRU_model.evaluate(X_test_data, y_test_data) #Evaluate model can be used to get the loss metric. \n",
    "print('Score: {}'.format(score)) \n",
    "y_pred = GRU_model.predict(X_test_data) #Apply the built model on test data. \n",
    "y_test_pred = y_scaled_set.inverse_transform(y_pred) #Use inverse transform to undo the scaling that was done before. This gives us the original values. \n",
    "y_test_actual = y_scaled_set.inverse_transform(y_test_data) # Apply the inverse transform on the actual dataset for easy comparison of predicted vs actual. \n",
    "# Select only the last 8 values from y_test_actual and y_test_pred to match test_Dates\n",
    "y_test_actual_plot = y_test_actual[-8:].flatten()  # Convert to 1D array\n",
    "y_test_pred_plot = y_test_pred[-8:].flatten()      # Convert to 1D array\n"
   ]
  },
  {
   "cell_type": "code",
   "execution_count": 56,
   "metadata": {
    "colab": {},
    "colab_type": "code",
    "id": "UvDPH7PFCzRo"
   },
   "outputs": [],
   "source": [
    "test_Dates=main_dataset.Date[80:88] #create an object which has the dates for the Test data. "
   ]
  },
  {
   "cell_type": "code",
   "execution_count": 58,
   "metadata": {
    "colab": {
     "base_uri": "https://localhost:8080/",
     "height": 269
    },
    "colab_type": "code",
    "id": "Vzcp1Gb7F6ed",
    "outputId": "2ee979d3-8e72-4486-d09c-96da40182b54"
   },
   "outputs": [
    {
     "name": "stdout",
     "output_type": "stream",
     "text": [
      "test_Dates shape: (8,)\n",
      "y_test_actual shape: (16157, 1)\n",
      "y_test_pred shape: (16157, 1)\n"
     ]
    }
   ],
   "source": [
    "print(f\"test_Dates shape: {test_Dates.shape}\")\n",
    "print(f\"y_test_actual shape: {y_test_actual.shape}\")\n",
    "print(f\"y_test_pred shape: {y_test_pred.shape}\")\n"
   ]
  },
  {
   "cell_type": "code",
   "execution_count": 60,
   "metadata": {},
   "outputs": [
    {
     "data": {
      "image/png": "[encoded data removed]",
      "text/plain": [
       "<Figure size 1200x600 with 1 Axes>"
      ]
     },
     "metadata": {},
     "output_type": "display_data"
    }
   ],
   "source": [
    "# Plot\n",
    "plt.figure(figsize=(12,6))\n",
    "plt.plot(test_Dates, y_test_actual_plot, label='Actual')\n",
    "plt.plot(test_Dates, y_test_pred_plot, label='Predicted')\n",
    "plt.xticks(rotation=45)\n",
    "plt.legend()\n",
    "plt.show()\n",
    "\n"
   ]
  },
  {
   "cell_type": "markdown",
   "metadata": {
    "colab_type": "text",
    "id": "hdnZi07zBJOW"
   },
   "source": [
    "\n",
    "\n",
    "The mean square error (metric) is nearing zero. Analyzing the above graph, we see that our model was closely predicting for the 1st day. Though there are dip in cases after 20th April, our model predicted around 1600 cases. The cases saw a sudden spike which our model was able to predict very closely and maintained the trend till 27-April."
   ]
  },
  {
   "cell_type": "markdown",
   "metadata": {
    "colab_type": "text",
    "id": "ZFUehLucAXDl"
   },
   "source": [
    "## Ending Notes\n",
    "\n",
    "Please note the following very important points.\n",
    "\n",
    "\n",
    "\n",
    "1.   We are dealing with a real-life scenario which we haven't seen before and hence, there can be room for lot of improvement. Given the scracity of the data available, sudden spikes and sudden dips are even more difficult to predict as the time series models show a constant trend while predicting. This is a very simple attempt in explaining GRU model for predicting time-series models. \n",
    "2.   Next steps would be change the moving average and exponential moving average to different spans and check how is the accuracy. Is our model doing any better?\n",
    "3. Try changing the parameters of our GRU model and see if the model is performing better. \n",
    "\n"
   ]
  },
  {
   "cell_type": "code",
   "execution_count": null,
   "metadata": {},
   "outputs": [],
   "source": []
  }
 ],
 "metadata": {
  "colab": {
   "collapsed_sections": [],
   "name": "Covid_RNN_GRU (2).ipynb",
   "provenance": []
  },
  "kernelspec": {
   "display_name": "Python 3 (ipykernel)",
   "language": "python",
   "name": "python3"
  },
  "language_info": {
   "codemirror_mode": {
    "name": "ipython",
    "version": 3
   },
   "file_extension": ".py",
   "mimetype": "text/x-python",
   "name": "python",
   "nbconvert_exporter": "python",
   "pygments_lexer": "ipython3",
   "version": "3.12.4"
  }
 },
 "nbformat": 4,
 "nbformat_minor": 4
}
